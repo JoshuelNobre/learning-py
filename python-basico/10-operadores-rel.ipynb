{
 "cells": [
  {
   "cell_type": "code",
   "execution_count": 10,
   "metadata": {},
   "outputs": [
    {
     "name": "stdout",
     "output_type": "stream",
     "text": [
      "Olá Josué, você NÃO pode pegar o empréstimo.\n"
     ]
    }
   ],
   "source": [
    "\"\"\"\n",
    ">= <= == !=\n",
    "\"\"\"\n",
    "\n",
    "\"\"\"nome = input('Qual o seu nome? ')\n",
    "idade = int(input('Qual a sua idade? '))\n",
    "\n",
    "# Limite para pegar empréstimo\n",
    "idade_minima = 18\n",
    "idade_limite = 90\n",
    "\n",
    "if idade <= idade_limite and idade >= 18:\n",
    "    print(f'Olá {nome}, você pode pegar o empréstimo.')\n",
    "else:\n",
    "    print(f'Olá {nome}, você NÃO pode pegar o empréstimo.')\"\"\""
   ]
  },
  {
   "cell_type": "code",
   "execution_count": 12,
   "metadata": {},
   "outputs": [],
   "source": [
    "# Para verificar se tá vazio\n",
    "\n",
    "a = 'asdasdasdasdasffas'\n",
    "b = 0\n",
    "\n",
    "if not a:\n",
    "    print('Por favor, preencha o valor de B.')"
   ]
  },
  {
   "cell_type": "code",
   "execution_count": 13,
   "metadata": {},
   "outputs": [
    {
     "name": "stdout",
     "output_type": "stream",
     "text": [
      "Existe a letra U no seu nome.\n"
     ]
    }
   ],
   "source": [
    "nome = 'Josue'\n",
    "\n",
    "if 'u' in nome:\n",
    "    print('Existe a letra U no seu nome.')\n"
   ]
  },
  {
   "cell_type": "code",
   "execution_count": 15,
   "metadata": {},
   "outputs": [
    {
     "name": "stdout",
     "output_type": "stream",
     "text": [
      "Você está logado !\n"
     ]
    }
   ],
   "source": [
    "# Sistema de loguin\n",
    "\n",
    "usuario = input('Nome de usuário: ')\n",
    "senha = input('Senha do usuário: ')\n",
    "\n",
    "usuario_bd = 'josue'\n",
    "senha_bd = '123456'\n",
    "\n",
    "if usuario_bd == usuario and senha_bd == senha:\n",
    "    print('Você está logado !')\n",
    "else:\n",
    "    print('Usuário ou senha invalido !')"
   ]
  },
  {
   "cell_type": "code",
   "execution_count": null,
   "metadata": {},
   "outputs": [],
   "source": []
  }
 ],
 "metadata": {
  "interpreter": {
   "hash": "a1abd7f44d5fb45ed617dc58b72737399e45f2c87d6b47cf47bcc9a2c8af1f45"
  },
  "kernelspec": {
   "display_name": "Python 3.10.0 64-bit",
   "name": "python3"
  },
  "language_info": {
   "codemirror_mode": {
    "name": "ipython",
    "version": 3
   },
   "file_extension": ".py",
   "mimetype": "text/x-python",
   "name": "python",
   "nbconvert_exporter": "python",
   "pygments_lexer": "ipython3",
   "version": "3.10.0"
  },
  "orig_nbformat": 4
 },
 "nbformat": 4,
 "nbformat_minor": 2
}
