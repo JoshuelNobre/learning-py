{
 "cells": [
  {
   "cell_type": "code",
   "execution_count": 3,
   "metadata": {},
   "outputs": [
    {
     "name": "stdout",
     "output_type": "stream",
     "text": [
      "Claudiol leitao 15 <class 'int'>\n",
      "Você foi cadastrado no sistema. \n"
     ]
    }
   ],
   "source": [
    "usuario = input ('Digite seu usuário: ')\n",
    "qntd_carac = len(usuario)\n",
    "\n",
    "print(usuario, qntd_carac, type(qntd_carac))\n",
    "\n",
    "if qntd_carac <6:\n",
    "    print('Caracteres insuficientes. ')\n",
    "else:\n",
    "    print('Você foi cadastrado no sistema. ')"
   ]
  },
  {
   "cell_type": "code",
   "execution_count": 8,
   "metadata": {},
   "outputs": [
    {
     "name": "stdout",
     "output_type": "stream",
     "text": [
      "A quantidade total de caracteres digitados foi 19\n"
     ]
    }
   ],
   "source": [
    "string1 = input('Digite alguma coisa: ')\n",
    "string2 = input('Digite outra coisa: ')\n",
    "\n",
    "print(f'A quantidade total de caracteres digitados foi {len(string1) + len(string2)}')"
   ]
  },
  {
   "cell_type": "code",
   "execution_count": 10,
   "metadata": {},
   "outputs": [
    {
     "name": "stdout",
     "output_type": "stream",
     "text": [
      "12\n",
      "12\n"
     ]
    }
   ],
   "source": [
    "print(len(string2))\n",
    "print(string2.__len__())"
   ]
  },
  {
   "cell_type": "code",
   "execution_count": null,
   "metadata": {},
   "outputs": [],
   "source": [
    "# len não funciona com números"
   ]
  }
 ],
 "metadata": {
  "interpreter": {
   "hash": "a1abd7f44d5fb45ed617dc58b72737399e45f2c87d6b47cf47bcc9a2c8af1f45"
  },
  "kernelspec": {
   "display_name": "Python 3.10.0 64-bit",
   "name": "python3"
  },
  "language_info": {
   "codemirror_mode": {
    "name": "ipython",
    "version": 3
   },
   "file_extension": ".py",
   "mimetype": "text/x-python",
   "name": "python",
   "nbconvert_exporter": "python",
   "pygments_lexer": "ipython3",
   "version": "3.10.0"
  },
  "orig_nbformat": 4
 },
 "nbformat": 4,
 "nbformat_minor": 2
}
